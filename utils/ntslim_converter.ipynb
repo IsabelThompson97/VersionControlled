{
 "cells": [
  {
   "cell_type": "code",
   "execution_count": 21,
   "metadata": {
    "jupyter": {
     "source_hidden": true
    }
   },
   "outputs": [],
   "source": [
    "import pandas as pd\n",
    "import os\n",
    "\n",
    "class SimulationTimeScaler:\n",
    "    def __init__(self, num_frames: int, num_timesteps: int, timestep_length_ps: float):\n",
    "        \"\"\"\n",
    "        Initialize with the number of frames, total timesteps, and the length of each timestep in picoseconds.\n",
    "        :param num_frames: Total number of frames in the simulation.\n",
    "        :param num_timesteps: Total number of timesteps in the simulation.\n",
    "        :param timestep_length_ps: Length of one timestep in picoseconds.\n",
    "        \"\"\"\n",
    "        self.num_frames = num_frames\n",
    "        self.num_timesteps = num_timesteps\n",
    "        self.timestep_length_ps = timestep_length_ps\n",
    "        self.timesteps_per_frame = num_timesteps / num_frames\n",
    "        self.timestep_length_ns = timestep_length_ps / 1000  # Convert ps to ns\n",
    "\n",
    "    def calculate_length_from_timesteps(self) -> float:\n",
    "        \"\"\"\n",
    "        Calculate the total length of the simulation in nanoseconds based on the number of timesteps.\n",
    "        :return: Total length of the simulation in nanoseconds.\n",
    "        \"\"\"\n",
    "        return self.num_timesteps * self.timestep_length_ns\n",
    "\n",
    "    def calculate_timesteps(self, simulation_length_ns: float) -> int:\n",
    "        \"\"\"\n",
    "        Calculate the number of timesteps for a given length of simulation in nanoseconds.\n",
    "        :param simulation_length_ns: The total length of the simulation in nanoseconds.\n",
    "        :return: The number of timesteps.\n",
    "        \"\"\"\n",
    "        return int(simulation_length_ns / self.timestep_length_ns)\n",
    "\n",
    "    def scale_to_nanoseconds(self, dataset: pd.DataFrame, x_column: str, new_column_name: str) -> pd.DataFrame:\n",
    "        \"\"\"\n",
    "        Scale the x-column of the dataset (assumed to be frame numbers) to nanoseconds and add as a new column.\n",
    "        :param dataset: A pandas DataFrame with at least one column for frame numbers.\n",
    "        :param x_column: The name of the column to scale (the frame numbers).\n",
    "        :param new_column_name: The name of the new column to be added for scaled values.\n",
    "        :return: A new DataFrame with the added scaled x-column (in nanoseconds).\n",
    "        \"\"\"\n",
    "        dataset_scaled = dataset.copy()\n",
    "        dataset_scaled[new_column_name] = dataset[x_column] * self.timesteps_per_frame * self.timestep_length_ns\n",
    "        return dataset_scaled\n",
    "\n",
    "    @staticmethod\n",
    "    def load_data(filename: str, column_names: list, skiprows: int = 0) -> pd.DataFrame:\n",
    "        \"\"\"\n",
    "        Load data from a .txt or .csv file into a pandas DataFrame with custom column names.\n",
    "        \n",
    "        :param filename: Path to the file.\n",
    "        :param column_names: List of column names to assign to the data.\n",
    "        :param skiprows: Number of rows to skip at the start of the file (default is 0).\n",
    "        :return: A pandas DataFrame with the loaded data and custom column names.\n",
    "        \"\"\"\n",
    "        if filename.endswith('.txt'):\n",
    "            return pd.read_csv(filename, sep=r'\\s+', skiprows=skiprows, names=column_names)\n",
    "        elif filename.endswith('.csv'):\n",
    "            return pd.read_csv(filename, skiprows=skiprows, names=column_names)\n",
    "        else:\n",
    "            raise ValueError(\"Unsupported file format. Please provide a .txt or .csv file.\")\n",
    "\n",
    "    @staticmethod\n",
    "    def save_data(data: pd.DataFrame, output_dir: str, output_filename: str) -> str:\n",
    "        \"\"\"\n",
    "        Save the modified dataset to the specified directory.\n",
    "        \n",
    "        :param data: DataFrame to be saved.\n",
    "        :param output_dir: Directory where the file will be saved.\n",
    "        :param output_filename: The name of the file to save (with extension).\n",
    "        :return: Full path to the saved file.\n",
    "        \"\"\"\n",
    "        os.makedirs(output_dir, exist_ok=True)\n",
    "        output_path = os.path.join(output_dir, output_filename)\n",
    "        data.to_csv(output_path, index=False)\n",
    "        return output_path"
   ]
  },
  {
   "cell_type": "code",
   "execution_count": 31,
   "metadata": {},
   "outputs": [
    {
     "name": "stdout",
     "output_type": "stream",
     "text": [
      "Total simulation length for 50000000 timesteps of 0.002 ps: 100.0 ns\n",
      "Number of timesteps for 100 ns: 50000000\n",
      "Length of time per frame: 100.0 ps\n"
     ]
    }
   ],
   "source": [
    "# Define your parameters\n",
    "num_frames = 1000  # Total number of frames in the simulation\n",
    "num_timesteps = 50000000  # 50 million timesteps\n",
    "timestep_length_ps = 0.002  # e.g., 2 picoseconds = 0.002 nanoseconds\n",
    "simulation_time_ns = 100  # Example: 1 microsecond (1,000 nanoseconds)\n",
    "\n",
    "# Create an instance of SimulationTimeScaler\n",
    "scaler = SimulationTimeScaler(num_frames, num_timesteps, timestep_length_ps)\n",
    "\n",
    "# Calculate simulation length in nanoseconds using the number of timesteps\n",
    "total_length_from_timesteps = scaler.calculate_length_from_timesteps()\n",
    "print(f\"Total simulation length for {num_timesteps} timesteps of {timestep_length_ps} ps: {total_length_from_timesteps} ns\")\n",
    "\n",
    "# Calculate the number of timesteps for a given length of time\n",
    "timesteps = scaler.calculate_timesteps(simulation_time_ns)\n",
    "print(f\"Number of timesteps for {simulation_time_ns} ns: {timesteps}\")\n",
    "\n",
    "# Calculate and print the length of time per frame\n",
    "time_per_frame_ps = scaler.timestep_length_ps * scaler.timesteps_per_frame\n",
    "print(f\"Length of time per frame: {time_per_frame_ps} ps\")"
   ]
  }
 ],
 "metadata": {
  "kernelspec": {
   "display_name": "Python 3 (ipykernel)",
   "language": "python",
   "name": "python3"
  },
  "language_info": {
   "codemirror_mode": {
    "name": "ipython",
    "version": 3
   },
   "file_extension": ".py",
   "mimetype": "text/x-python",
   "name": "python",
   "nbconvert_exporter": "python",
   "pygments_lexer": "ipython3",
   "version": "3.11.7"
  }
 },
 "nbformat": 4,
 "nbformat_minor": 4
}
