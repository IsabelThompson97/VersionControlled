{
 "cells": [
  {
   "cell_type": "code",
   "execution_count": 2,
   "metadata": {},
   "outputs": [],
   "source": [
    "import pandas as pd\n",
    "\n",
    "class SimulationScaler:\n",
    "    def __init__(self, num_frames, timestep_length, num_timesteps):\n",
    "        self.num_frames = num_frames\n",
    "        self.timestep_length = timestep_length  # Length of each timestep in nanoseconds\n",
    "        self.num_timesteps = num_timesteps\n",
    "\n",
    "    def calculate_simulation_length(self):\n",
    "        \"\"\"\n",
    "        Calculate the total length of the simulation in nanoseconds.\n",
    "        \"\"\"\n",
    "        return self.num_frames * self.num_timesteps * self.timestep_length\n",
    "\n",
    "    def scale_to_nanoseconds(self, data, frame_column):\n",
    "        \"\"\"\n",
    "        Scale the x-axis (frame number) of the dataset to nanoseconds.\n",
    "        \n",
    "        Parameters:\n",
    "        - data: DataFrame containing the dataset.\n",
    "        - frame_column: The column name or index for the frame numbers.\n",
    "        \n",
    "        Returns:\n",
    "        - The modified DataFrame with frame numbers converted to nanoseconds.\n",
    "        \"\"\"\n",
    "        data['Time (ns)'] = data[frame_column] * self.num_timesteps * self.timestep_length\n",
    "        return data\n",
    "\n",
    "    @staticmethod\n",
    "    def calculate_timesteps(simulation_time_ns, timestep_length):\n",
    "        \"\"\"\n",
    "        Calculate the number of timesteps for a given simulation length in nanoseconds and timestep length.\n",
    "        \n",
    "        Parameters:\n",
    "        - simulation_time_ns: Length of time in nanoseconds.\n",
    "        - timestep_length: Length of each timestep in nanoseconds.\n",
    "        \n",
    "        Returns:\n",
    "        - The number of timesteps.\n",
    "        \"\"\"\n",
    "        return simulation_time_ns / timestep_length\n"
   ]
  },
  {
   "cell_type": "code",
   "execution_count": 5,
   "metadata": {},
   "outputs": [
    {
     "name": "stdout",
     "output_type": "stream",
     "text": [
      "Total simulation length: 10000000000.0 ns\n",
      "   Frame  Value  Time (ns)\n",
      "0      0      0        0.0\n",
      "1      1      1   100000.0\n",
      "2      2      2   200000.0\n",
      "3      3      3   300000.0\n",
      "4      4      4   400000.0\n",
      "Number of timesteps for 10 ns: 5000.0\n"
     ]
    }
   ],
   "source": [
    "# Example usage\n",
    "if __name__ == \"__main__\":\n",
    "    # Define your parameters\n",
    "    timestep_length = 0.002  ## 2 femtoseconds = 0.002 nanoseconds\n",
    "    num_timesteps = 50000000 ## ntslim\n",
    "    num_frames = num_timesteps // 500 # ntslim/ntwx (ntslim = number timesteps)/(ntwx = how often coordinates written to trajectory file)\n",
    "\n",
    "    # Initialize the SimulationScaler\n",
    "    scaler = SimulationScaler(num_frames, timestep_length, num_timesteps)\n",
    "\n",
    "    # Calculate simulation length in nanoseconds\n",
    "    total_simulation_ns = scaler.calculate_simulation_length()\n",
    "    print(f\"Total simulation length: {total_simulation_ns} ns\")\n",
    "\n",
    "    # Example DataFrame (replace this with your actual dataset)\n",
    "    data = pd.DataFrame({\n",
    "        'Frame': range(num_frames),\n",
    "        'Value': range(num_frames)  # Example y-values\n",
    "    })\n",
    "\n",
    "    # Scale the data to nanoseconds\n",
    "    scaled_data = scaler.scale_to_nanoseconds(data, 'Frame')\n",
    "    print(scaled_data.head())\n",
    "\n",
    "    # Calculate the number of timesteps for a given length of time\n",
    "    simulation_time_ns = 1000000  # Example: 10 nanoseconds\n",
    "    timesteps = scaler.calculate_timesteps(simulation_time_ns, timestep_length)\n",
    "    print(f\"Number of timesteps for {simulation_time_ns} ns: {timesteps}\")"
   ]
  }
 ],
 "metadata": {
  "kernelspec": {
   "display_name": "Python 3",
   "language": "python",
   "name": "python3"
  },
  "language_info": {
   "codemirror_mode": {
    "name": "ipython",
    "version": 3
   },
   "file_extension": ".py",
   "mimetype": "text/x-python",
   "name": "python",
   "nbconvert_exporter": "python",
   "pygments_lexer": "ipython3",
   "version": "3.12.1"
  }
 },
 "nbformat": 4,
 "nbformat_minor": 2
}
